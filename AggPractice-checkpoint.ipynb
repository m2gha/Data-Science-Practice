{
 "cells": [
  {
   "cell_type": "code",
   "execution_count": 4,
   "metadata": {},
   "outputs": [
    {
     "name": "stdout",
     "output_type": "stream",
     "text": [
      "     A    B    C\n",
      "0  1.0  2.0  3.0\n",
      "1  4.0  5.0  6.0\n",
      "2  7.0  8.0  9.0\n",
      "3  NaN  NaN  NaN\n"
     ]
    }
   ],
   "source": [
    "import pandas as pd\n",
    "import numpy as np\n",
    "df = pd.DataFrame ([[1,2,3,],\n",
    "                   [4,5,6],\n",
    "                   [7,8,9],\n",
    "                   [np.nan, np.nan, np.nan]],\n",
    "                   columns=['A', 'B', 'C'])\n",
    "print(df)"
   ]
  },
  {
   "cell_type": "code",
   "execution_count": 7,
   "metadata": {},
   "outputs": [
    {
     "name": "stdout",
     "output_type": "stream",
     "text": [
      "        A     B     C\n",
      "sum  12.0  15.0  18.0\n",
      "min   1.0   2.0   3.0\n"
     ]
    }
   ],
   "source": [
    "#now, aggregate these functions over the rows\n",
    "print(df.agg(['sum', 'min']))"
   ]
  },
  {
   "cell_type": "code",
   "execution_count": 9,
   "metadata": {},
   "outputs": [
    {
     "name": "stdout",
     "output_type": "stream",
     "text": [
      "        A    B\n",
      "sum  12.0  NaN\n",
      "min   1.0  2.0\n",
      "max   NaN  8.0\n"
     ]
    }
   ],
   "source": [
    "#now, try different aggregations per column\n",
    "print(df.agg({'A': ['sum','min'], 'B' : ['min','max']}))"
   ]
  },
  {
   "cell_type": "code",
   "execution_count": 11,
   "metadata": {},
   "outputs": [
    {
     "name": "stdout",
     "output_type": "stream",
     "text": [
      "0    2.0\n",
      "1    5.0\n",
      "2    8.0\n",
      "3    NaN\n",
      "dtype: float64\n"
     ]
    }
   ],
   "source": [
    "#be careful what to exclude when aggregating, because the Kernel do not restart the internal variables from one cell to the other\n",
    "print(df.agg(\"mean\", axis=\"columns\"))"
   ]
  },
  {
   "cell_type": "code",
   "execution_count": 12,
   "metadata": {},
   "outputs": [
    {
     "name": "stdout",
     "output_type": "stream",
     "text": [
      "A    4.0\n",
      "B    5.0\n",
      "C    6.0\n",
      "dtype: float64\n"
     ]
    }
   ],
   "source": [
    "print(df.agg(\"mean\",axis=\"rows\"))"
   ]
  },
  {
   "cell_type": "code",
   "execution_count": 13,
   "metadata": {},
   "outputs": [],
   "source": [
    "#Load a small csv test file\n",
    "data = pd.read_csv('phone_data.csv')"
   ]
  },
  {
   "cell_type": "code",
   "execution_count": 14,
   "metadata": {},
   "outputs": [
    {
     "data": {
      "text/html": [
       "<div>\n",
       "<style scoped>\n",
       "    .dataframe tbody tr th:only-of-type {\n",
       "        vertical-align: middle;\n",
       "    }\n",
       "\n",
       "    .dataframe tbody tr th {\n",
       "        vertical-align: top;\n",
       "    }\n",
       "\n",
       "    .dataframe thead th {\n",
       "        text-align: right;\n",
       "    }\n",
       "</style>\n",
       "<table border=\"1\" class=\"dataframe\">\n",
       "  <thead>\n",
       "    <tr style=\"text-align: right;\">\n",
       "      <th></th>\n",
       "      <th>index</th>\n",
       "      <th>date</th>\n",
       "      <th>duration</th>\n",
       "      <th>item</th>\n",
       "      <th>month</th>\n",
       "      <th>network</th>\n",
       "      <th>network_type</th>\n",
       "    </tr>\n",
       "  </thead>\n",
       "  <tbody>\n",
       "    <tr>\n",
       "      <th>0</th>\n",
       "      <td>0</td>\n",
       "      <td>15/10/14 06:58</td>\n",
       "      <td>34.429</td>\n",
       "      <td>data</td>\n",
       "      <td>2014-11</td>\n",
       "      <td>data</td>\n",
       "      <td>data</td>\n",
       "    </tr>\n",
       "    <tr>\n",
       "      <th>1</th>\n",
       "      <td>1</td>\n",
       "      <td>15/10/14 06:58</td>\n",
       "      <td>13.000</td>\n",
       "      <td>call</td>\n",
       "      <td>2014-11</td>\n",
       "      <td>Vodafone</td>\n",
       "      <td>mobile</td>\n",
       "    </tr>\n",
       "    <tr>\n",
       "      <th>2</th>\n",
       "      <td>2</td>\n",
       "      <td>15/10/14 14:46</td>\n",
       "      <td>23.000</td>\n",
       "      <td>call</td>\n",
       "      <td>2014-11</td>\n",
       "      <td>Meteor</td>\n",
       "      <td>mobile</td>\n",
       "    </tr>\n",
       "    <tr>\n",
       "      <th>3</th>\n",
       "      <td>3</td>\n",
       "      <td>15/10/14 14:48</td>\n",
       "      <td>4.000</td>\n",
       "      <td>call</td>\n",
       "      <td>2014-11</td>\n",
       "      <td>Tesco</td>\n",
       "      <td>mobile</td>\n",
       "    </tr>\n",
       "    <tr>\n",
       "      <th>4</th>\n",
       "      <td>4</td>\n",
       "      <td>15/10/14 17:27</td>\n",
       "      <td>4.000</td>\n",
       "      <td>call</td>\n",
       "      <td>2014-11</td>\n",
       "      <td>Tesco</td>\n",
       "      <td>mobile</td>\n",
       "    </tr>\n",
       "    <tr>\n",
       "      <th>...</th>\n",
       "      <td>...</td>\n",
       "      <td>...</td>\n",
       "      <td>...</td>\n",
       "      <td>...</td>\n",
       "      <td>...</td>\n",
       "      <td>...</td>\n",
       "      <td>...</td>\n",
       "    </tr>\n",
       "    <tr>\n",
       "      <th>825</th>\n",
       "      <td>825</td>\n",
       "      <td>13/03/15 00:38</td>\n",
       "      <td>1.000</td>\n",
       "      <td>sms</td>\n",
       "      <td>2015-03</td>\n",
       "      <td>world</td>\n",
       "      <td>world</td>\n",
       "    </tr>\n",
       "    <tr>\n",
       "      <th>826</th>\n",
       "      <td>826</td>\n",
       "      <td>13/03/15 00:39</td>\n",
       "      <td>1.000</td>\n",
       "      <td>sms</td>\n",
       "      <td>2015-03</td>\n",
       "      <td>Vodafone</td>\n",
       "      <td>mobile</td>\n",
       "    </tr>\n",
       "    <tr>\n",
       "      <th>827</th>\n",
       "      <td>827</td>\n",
       "      <td>13/03/15 06:58</td>\n",
       "      <td>34.429</td>\n",
       "      <td>data</td>\n",
       "      <td>2015-03</td>\n",
       "      <td>data</td>\n",
       "      <td>data</td>\n",
       "    </tr>\n",
       "    <tr>\n",
       "      <th>828</th>\n",
       "      <td>828</td>\n",
       "      <td>14/03/15 00:13</td>\n",
       "      <td>1.000</td>\n",
       "      <td>sms</td>\n",
       "      <td>2015-03</td>\n",
       "      <td>world</td>\n",
       "      <td>world</td>\n",
       "    </tr>\n",
       "    <tr>\n",
       "      <th>829</th>\n",
       "      <td>829</td>\n",
       "      <td>14/03/15 00:16</td>\n",
       "      <td>1.000</td>\n",
       "      <td>sms</td>\n",
       "      <td>2015-03</td>\n",
       "      <td>world</td>\n",
       "      <td>world</td>\n",
       "    </tr>\n",
       "  </tbody>\n",
       "</table>\n",
       "<p>830 rows × 7 columns</p>\n",
       "</div>"
      ],
      "text/plain": [
       "     index            date  duration  item    month   network network_type\n",
       "0        0  15/10/14 06:58    34.429  data  2014-11      data         data\n",
       "1        1  15/10/14 06:58    13.000  call  2014-11  Vodafone       mobile\n",
       "2        2  15/10/14 14:46    23.000  call  2014-11    Meteor       mobile\n",
       "3        3  15/10/14 14:48     4.000  call  2014-11     Tesco       mobile\n",
       "4        4  15/10/14 17:27     4.000  call  2014-11     Tesco       mobile\n",
       "..     ...             ...       ...   ...      ...       ...          ...\n",
       "825    825  13/03/15 00:38     1.000   sms  2015-03     world        world\n",
       "826    826  13/03/15 00:39     1.000   sms  2015-03  Vodafone       mobile\n",
       "827    827  13/03/15 06:58    34.429  data  2015-03      data         data\n",
       "828    828  14/03/15 00:13     1.000   sms  2015-03     world        world\n",
       "829    829  14/03/15 00:16     1.000   sms  2015-03     world        world\n",
       "\n",
       "[830 rows x 7 columns]"
      ]
     },
     "execution_count": 14,
     "metadata": {},
     "output_type": "execute_result"
    }
   ],
   "source": [
    "data"
   ]
  },
  {
   "cell_type": "code",
   "execution_count": 29,
   "metadata": {},
   "outputs": [
    {
     "name": "stdout",
     "output_type": "stream",
     "text": [
      "     index                date  duration  item    month   network network_type\n",
      "0        0 2014-10-15 06:58:00    34.429  data  2014-11      data         data\n",
      "1        1 2014-10-15 06:58:00    13.000  call  2014-11  Vodafone       mobile\n",
      "2        2 2014-10-15 14:46:00    23.000  call  2014-11    Meteor       mobile\n",
      "3        3 2014-10-15 14:48:00     4.000  call  2014-11     Tesco       mobile\n",
      "4        4 2014-10-15 17:27:00     4.000  call  2014-11     Tesco       mobile\n",
      "..     ...                 ...       ...   ...      ...       ...          ...\n",
      "825    825 2015-03-13 00:38:00     1.000   sms  2015-03     world        world\n",
      "826    826 2015-03-13 00:39:00     1.000   sms  2015-03  Vodafone       mobile\n",
      "827    827 2015-03-13 06:58:00    34.429  data  2015-03      data         data\n",
      "828    828 2015-03-14 00:13:00     1.000   sms  2015-03     world        world\n",
      "829    829 2015-03-14 00:16:00     1.000   sms  2015-03     world        world\n",
      "\n",
      "[830 rows x 7 columns]\n"
     ]
    }
   ],
   "source": [
    "#we have here a type date\n",
    "#we must convert from string to date and time\n",
    "import dateutil\n",
    "data['date'] = data['date'].apply(dateutil.parser.parse, dayfirst=True)\n",
    "print(data)"
   ]
  },
  {
   "cell_type": "code",
   "execution_count": 30,
   "metadata": {},
   "outputs": [
    {
     "name": "stdout",
     "output_type": "stream",
     "text": [
      "Total nbr of rows in the DS: 830\n"
     ]
    }
   ],
   "source": [
    "print('Total nbr of rows in the DS:',data['item'].count())"
   ]
  },
  {
   "cell_type": "code",
   "execution_count": 31,
   "metadata": {},
   "outputs": [
    {
     "name": "stdout",
     "output_type": "stream",
     "text": [
      "what is the longest phone cell duration in this ds? 10528.0\n"
     ]
    }
   ],
   "source": [
    "print('what is the longest phone cell duration in this ds?', data['duration'].max())"
   ]
  },
  {
   "cell_type": "code",
   "execution_count": 7,
   "metadata": {},
   "outputs": [],
   "source": [
    "import dateutil"
   ]
  },
  {
   "cell_type": "code",
   "execution_count": 32,
   "metadata": {},
   "outputs": [
    {
     "name": "stdout",
     "output_type": "stream",
     "text": [
      "the total nbre of seconds recorded are:  92321.0\n"
     ]
    }
   ],
   "source": [
    "# how many seconds in total did they record ?\n",
    "print('the total nbre of seconds recorded are: ', data['duration'][data['item']=='call'].sum())"
   ]
  },
  {
   "cell_type": "code",
   "execution_count": 35,
   "metadata": {},
   "outputs": [
    {
     "name": "stdout",
     "output_type": "stream",
     "text": [
      "the total nbre of non-null UNEs is:  9\n"
     ]
    }
   ],
   "source": [
    "#calculate the total nbre of UNE which are not null (Unique Netwrok Entries)\n",
    "print('the total nbre of non-null UNEs is: ', data['network'].nunique())"
   ]
  },
  {
   "cell_type": "code",
   "execution_count": 36,
   "metadata": {},
   "outputs": [
    {
     "name": "stdout",
     "output_type": "stream",
     "text": [
      "2014-11    230\n",
      "2015-01    205\n",
      "2014-12    157\n",
      "2015-02    137\n",
      "2015-03    101\n",
      "Name: month, dtype: int64\n"
     ]
    }
   ],
   "source": [
    "#now compute the monthly entries This aggregation is important\n",
    "print(data['month'].value_counts())"
   ]
  },
  {
   "cell_type": "code",
   "execution_count": 37,
   "metadata": {},
   "outputs": [
    {
     "data": {
      "text/plain": [
       "'\\ncount: the totale number of non-null values\\nmad: mean absolute deviation\\nprod: product of values\\nsem: standard error of the mean\\nskew kurt quantile\\ncumsum\\ncumprod\\ncummax\\ncumin\\n\\n'"
      ]
     },
     "execution_count": 37,
     "metadata": {},
     "output_type": "execute_result"
    }
   ],
   "source": [
    "'''\n",
    "count: the totale number of non-null values\n",
    "mad: mean absolute deviation\n",
    "prod: product of values\n",
    "sem: standard error of the mean\n",
    "skew kurt quantile\n",
    "cumsum\n",
    "cumprod\n",
    "cummax\n",
    "cumin\n",
    "\n",
    "'''\n",
    "#NOTE: groupby splits the data into different depending on a variable of your choice.\n",
    "#ex: data.groupby('month') you are spliiting your Df by month\n",
    "\n"
   ]
  },
  {
   "cell_type": "code",
   "execution_count": 38,
   "metadata": {},
   "outputs": [],
   "source": [
    "data = pd.read_csv('phone_data.csv')"
   ]
  },
  {
   "cell_type": "code",
   "execution_count": 39,
   "metadata": {},
   "outputs": [
    {
     "name": "stdout",
     "output_type": "stream",
     "text": [
      "dict_keys(['2014-11', '2014-12', '2015-01', '2015-02', '2015-03'])\n"
     ]
    }
   ],
   "source": [
    "print(data.groupby(['month']).groups.keys())"
   ]
  },
  {
   "cell_type": "code",
   "execution_count": 40,
   "metadata": {},
   "outputs": [
    {
     "name": "stdout",
     "output_type": "stream",
     "text": [
      "230\n"
     ]
    }
   ],
   "source": [
    "print(len(data.groupby(['month']).groups['2014-11']))"
   ]
  },
  {
   "cell_type": "code",
   "execution_count": 41,
   "metadata": {},
   "outputs": [
    {
     "name": "stdout",
     "output_type": "stream",
     "text": [
      "157\n"
     ]
    }
   ],
   "source": [
    "print(len(data.groupby(['month']).groups['2014-12']))"
   ]
  },
  {
   "cell_type": "code",
   "execution_count": 42,
   "metadata": {},
   "outputs": [
    {
     "name": "stdout",
     "output_type": "stream",
     "text": [
      "         index            date  duration  item   network network_type\n",
      "month                                                                \n",
      "2014-11      0  15/10/14 06:58    34.429  data      data         data\n",
      "2014-12    228  13/11/14 06:58    34.429  data      data         data\n",
      "2015-01    381  13/12/14 06:58    34.429  data      data         data\n",
      "2015-02    577  13/01/15 06:58    34.429  data      data         data\n",
      "2015-03    729  12/02/15 20:15    69.000  call  landline     landline\n"
     ]
    }
   ],
   "source": [
    "#combing groupby AND stat fcts like sum max min last first .... is a very powerful tool in DS\n",
    "print(data.groupby(['month']).first())"
   ]
  },
  {
   "cell_type": "code",
   "execution_count": 43,
   "metadata": {},
   "outputs": [
    {
     "name": "stdout",
     "output_type": "stream",
     "text": [
      "         index            date  duration  item   network network_type\n",
      "month                                                                \n",
      "2014-11    230  13/11/14 22:31     1.000   sms  Vodafone       mobile\n",
      "2014-12    388  14/12/14 19:54    25.000  call     Three       mobile\n",
      "2015-01    593  14/01/15 23:36     1.000   sms     Three       mobile\n",
      "2015-02    728  12/02/15 06:58    34.429  data      data         data\n",
      "2015-03    829  14/03/15 00:16     1.000   sms     world        world\n"
     ]
    }
   ],
   "source": [
    "print(data.groupby(['month']).last())"
   ]
  },
  {
   "cell_type": "code",
   "execution_count": 44,
   "metadata": {},
   "outputs": [
    {
     "name": "stdout",
     "output_type": "stream",
     "text": [
      "month\n",
      "2014-11    26639.441\n",
      "2014-12    14641.870\n",
      "2015-01    18223.299\n",
      "2015-02    15522.299\n",
      "2015-03    22750.441\n",
      "Name: duration, dtype: float64\n"
     ]
    }
   ],
   "source": [
    "print(data.groupby('month')['duration'].sum())"
   ]
  },
  {
   "cell_type": "code",
   "execution_count": 45,
   "metadata": {},
   "outputs": [
    {
     "name": "stdout",
     "output_type": "stream",
     "text": [
      "month\n",
      "2014-11    230\n",
      "2014-12    157\n",
      "2015-01    205\n",
      "2015-02    137\n",
      "2015-03    101\n",
      "Name: date, dtype: int64\n"
     ]
    }
   ],
   "source": [
    "print(data.groupby('month')['date'].count())"
   ]
  },
  {
   "cell_type": "code",
   "execution_count": 46,
   "metadata": {},
   "outputs": [
    {
     "name": "stdout",
     "output_type": "stream",
     "text": [
      "network\n",
      "Meteor        7200.0\n",
      "Tesco        13828.0\n",
      "Three        36464.0\n",
      "Vodafone     14621.0\n",
      "landline     18433.0\n",
      "voicemail     1775.0\n",
      "Name: duration, dtype: float64\n"
     ]
    }
   ],
   "source": [
    "#what is the sum of durations for callllllllssssss only, to each network\n",
    "print(data[data['item']=='call'].groupby('network')['duration'].sum())"
   ]
  },
  {
   "cell_type": "code",
   "execution_count": null,
   "metadata": {},
   "outputs": [],
   "source": []
  }
 ],
 "metadata": {
  "kernelspec": {
   "display_name": "Python 3",
   "language": "python",
   "name": "python3"
  },
  "language_info": {
   "codemirror_mode": {
    "name": "ipython",
    "version": 3
   },
   "file_extension": ".py",
   "mimetype": "text/x-python",
   "name": "python",
   "nbconvert_exporter": "python",
   "pygments_lexer": "ipython3",
   "version": "3.6.5"
  }
 },
 "nbformat": 4,
 "nbformat_minor": 5
}
